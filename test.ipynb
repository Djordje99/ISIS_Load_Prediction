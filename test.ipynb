{
 "cells": [
  {
   "cell_type": "code",
   "execution_count": 3,
   "metadata": {},
   "outputs": [],
   "source": [
    "import pandas as pd\n",
    "import os\n",
    "import sqlite3\n",
    "import numpy as np\n",
    "DATABASE_NAME = 'database/load_database.db'\n",
    "\n",
    "from services.preprocessing.load.load_calibrator import LoadCalibrator\n"
   ]
  },
  {
   "cell_type": "code",
   "execution_count": 5,
   "metadata": {},
   "outputs": [],
   "source": [
    "connection = sqlite3.connect(DATABASE_NAME)\n",
    "data_frame = pd.read_sql_query('SELECT * FROM Load', connection)\n",
    "connection.close()\n",
    "\n",
    "data_frame['date'] = pd.to_datetime(data_frame['date'])"
   ]
  },
  {
   "cell_type": "code",
   "execution_count": 165,
   "metadata": {},
   "outputs": [
    {
     "name": "stderr",
     "output_type": "stream",
     "text": [
      "C:\\Users\\djordje.bozovic\\AppData\\Local\\Temp\\ipykernel_3688\\1255598192.py:1: FutureWarning: The default value of numeric_only in DataFrameGroupBy.mean is deprecated. In a future version, numeric_only will default to False. Either specify numeric_only or select only columns which should be valid for the function.\n",
      "  means = data_frame.groupby([data_frame['date'].dt.date]).mean()['temp'].reset_index(name='temp')\n"
     ]
    },
    {
     "name": "stdout",
     "output_type": "stream",
     "text": [
      "    index                date   meantemp  temp feelslike   dew humidity  \\\n",
      "0       0 2018-01-01 00:00:00  13.041667   9.2      -5.4  -3.5    55.55   \n",
      "1       1 2018-01-01 01:00:00  13.041667   9.2      -5.6  -3.3    55.97   \n",
      "2       2 2018-01-01 02:00:00  13.041667   9.1        -6  -3.5    55.91   \n",
      "3       3 2018-01-01 03:00:00  13.041667   8.3      -6.2  -3.5       58   \n",
      "4       4 2018-01-01 04:00:00  13.041667   8.1      -5.6  -4.3     56.1   \n",
      "5       5 2018-01-01 05:00:00  13.041667   8.1      -7.3  -4.2    56.53   \n",
      "6       6 2018-01-01 06:00:00  13.041667   7.3      -6.4  -4.2    58.67   \n",
      "7       7 2018-01-01 07:00:00  13.041667   7.2      -8.1  -4.2     None   \n",
      "8       8 2018-01-01 08:00:00  13.041667   7.5      -6.4  -3.1     None   \n",
      "9       9 2018-01-01 09:00:00  13.041667   8.7      -5.9  -2.3     None   \n",
      "10     10 2018-01-01 10:00:00  13.041667  11.4      -3.2  -1.9     None   \n",
      "11     11 2018-01-01 11:00:00  13.041667  12.6      -2.1  -2.6     None   \n",
      "12     12 2018-01-01 12:00:00  13.041667  14.7       0.9  -2.7     None   \n",
      "13     13 2018-01-01 13:00:00  13.041667  15.8       2.1  -3.7     None   \n",
      "14     14 2018-01-01 14:00:00  13.041667  17.6       4.6  -4.1     None   \n",
      "15     15 2018-01-01 15:00:00  13.041667  18.6       7.7    -4     None   \n",
      "16     16 2018-01-01 16:00:00  13.041667  18.4       6.1    -5     None   \n",
      "17     17 2018-01-01 17:00:00  13.041667  18.2       6.8  -4.7    35.36   \n",
      "18     18 2018-01-01 18:00:00  13.041667  18.2       6.1  -5.2    34.43   \n",
      "19     19 2018-01-01 19:00:00  13.041667  17.3         8  -3.7    38.55   \n",
      "20     20 2018-01-01 20:00:00  13.041667  17.3       6.1  -3.6    38.84   \n",
      "21     21 2018-01-01 21:00:00  13.041667  17.1       7.4    -2    42.11   \n",
      "22     22 2018-01-01 22:00:00  13.041667  17.1       4.2   0.2    46.75   \n",
      "23     23 2018-01-01 23:00:00  13.041667  16.0       2.2   2.2       54   \n",
      "24     24 2018-01-02 00:00:00  18.695833  15.2       5.5   2.8    57.31   \n",
      "25     25 2018-01-02 01:00:00  18.695833  15.2       1.9   2.1    55.45   \n",
      "26     26 2018-01-02 02:00:00  18.695833  15.2      -0.5   1.3    53.37   \n",
      "27     27 2018-01-02 03:00:00  18.695833  14.3      -0.9   0.9    54.57   \n",
      "28     28 2018-01-02 04:00:00  18.695833  14.1      -0.1   0.9    55.01   \n",
      "29     29 2018-01-02 05:00:00  18.695833  13.1       0.7   0.9    57.43   \n",
      "\n",
      "   precip precipprob preciptype  ... sealevelpressure cloudcover visibility  \\\n",
      "0       0       None       None  ...           1026.5        4.4        9.9   \n",
      "1       0       None       None  ...           1026.7          0        9.9   \n",
      "2       0       None       None  ...           1026.9          0        9.9   \n",
      "3       0       None       None  ...           1027.3          0        9.9   \n",
      "4       0       None       None  ...           1027.3          0        9.9   \n",
      "5       0       None       None  ...           1027.9          0        9.9   \n",
      "6       0       None       None  ...           1027.9          0        9.9   \n",
      "7       0       None       None  ...           1028.2       10.5        9.9   \n",
      "8       0       None       None  ...           1028.3        4.4        9.9   \n",
      "9       0       None       None  ...           1028.7       10.5        9.9   \n",
      "10      0       None       None  ...           1029.1       10.5        9.9   \n",
      "11      0       None       None  ...           1028.7       10.5        9.9   \n",
      "12      0       None       None  ...           1028.2       10.5        9.9   \n",
      "13      0       None       None  ...           1027.5       10.5        9.9   \n",
      "14      0       None       None  ...           1027.1       10.5        9.9   \n",
      "15      0       None       None  ...           1027.2       10.5        9.9   \n",
      "16      0       None       None  ...           1027.1       10.5        9.9   \n",
      "17      0       None       None  ...           1027.2       10.5        9.9   \n",
      "18      0       None       None  ...           1027.7       10.5        9.9   \n",
      "19      0       None       None  ...           1028.1       10.5        9.9   \n",
      "20      0       None       None  ...           1028.3       10.5        9.9   \n",
      "21      0       None       None  ...           1027.8       10.5        9.9   \n",
      "22      0       None       None  ...           1027.8       10.5        9.9   \n",
      "23      0       None       None  ...           1027.8       10.5        9.9   \n",
      "24      0       None       None  ...           1027.8       10.5        9.9   \n",
      "25      0       None       None  ...           1027.8       10.5        9.9   \n",
      "26      0       None       None  ...           1028.2       10.5        9.9   \n",
      "27      0       None       None  ...           1028.6          0        9.9   \n",
      "28      0       None       None  ...           1028.6          0        9.9   \n",
      "29      0       None       None  ...           1028.6          0        9.9   \n",
      "\n",
      "   solarradiation solarenergy uvindex severerisk conditions   PTID    load  \n",
      "0            None        None       0       None      Clear  61761    6198  \n",
      "1            None        None       0       None      Clear  61761  6019.7  \n",
      "2            None        None       0       None      Clear  61761  5818.4  \n",
      "3            None        None       0       None      Clear  61761  5687.6  \n",
      "4            None        None       0       None      Clear  61761  5557.5  \n",
      "5            None        None       0       None      Clear  61761    5570  \n",
      "6            None        None       0       None      Clear  61761  5621.5  \n",
      "7            None        None       0       None      Clear  61761  5741.3  \n",
      "8            None        None       0       None      Clear  61761  5867.5  \n",
      "9            None        None       0       None      Clear  61761  6040.5  \n",
      "10           None        None       0       None      Clear  61761  6199.7  \n",
      "11           None        None       0       None      Clear  61761  6404.8  \n",
      "12           None        None       0       None      Clear  61761  6496.7  \n",
      "13           None        None       0       None      Clear  61761  6528.9  \n",
      "14           None        None       0       None      Clear  61761  6600.1  \n",
      "15           None        None       0       None      Clear  61761  6613.5  \n",
      "16           None        None       0       None      Clear  61761  6654.1  \n",
      "17           None        None       0       None      Clear  61761  6971.6  \n",
      "18           None        None       0       None      Clear  61761  7125.9  \n",
      "19           None        None       0       None      Clear  61761  7095.9  \n",
      "20           None        None       0       None      Clear  61761  7008.2  \n",
      "21           None        None       0       None      Clear  61761  6848.5  \n",
      "22           None        None       0       None      Clear  61761  6655.5  \n",
      "23           None        None       0       None      Clear  61761  6296.3  \n",
      "24           None        None       0       None      Clear  61761    5993  \n",
      "25           None        None       0       None      Clear  61761  5723.5  \n",
      "26           None        None       0       None      Clear  61761  5516.6  \n",
      "27           None        None       0       None      Clear  61761  5452.3  \n",
      "28           None        None       0       None      Clear  61761  5405.4  \n",
      "29           None        None       0       None      Clear  61761  5511.5  \n",
      "\n",
      "[30 rows x 25 columns]\n"
     ]
    }
   ],
   "source": [
    "\n",
    "calibrator = LoadCalibrator()\n",
    "calibrator.create_last_load_feature(data_frame)"
   ]
  },
  {
   "cell_type": "code",
   "execution_count": null,
   "metadata": {},
   "outputs": [],
   "source": []
  }
 ],
 "metadata": {
  "kernelspec": {
   "display_name": ".venv",
   "language": "python",
   "name": "python3"
  },
  "language_info": {
   "codemirror_mode": {
    "name": "ipython",
    "version": 3
   },
   "file_extension": ".py",
   "mimetype": "text/x-python",
   "name": "python",
   "nbconvert_exporter": "python",
   "pygments_lexer": "ipython3",
   "version": "3.9.10"
  },
  "orig_nbformat": 4,
  "vscode": {
   "interpreter": {
    "hash": "237d561a07411b8f6805cb83825596a4e7b9e0c4511715daae49f604cf2dc913"
   }
  }
 },
 "nbformat": 4,
 "nbformat_minor": 2
}
