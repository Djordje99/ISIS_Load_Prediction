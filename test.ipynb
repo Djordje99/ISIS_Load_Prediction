{
 "cells": [
  {
   "cell_type": "code",
   "execution_count": 90,
   "metadata": {},
   "outputs": [
    {
     "name": "stdout",
     "output_type": "stream",
     "text": [
      "Maximizing value :  144584.0\n",
      "Optimal solution :  [191. 200. 100.  60.]\n",
      "\n",
      "\n"
     ]
    }
   ],
   "source": [
    "from scipy.optimize import linprog\n",
    "\n",
    "fuel_factor = 0.2\n",
    "co2_factor = 0.8\n",
    "\n",
    "c = [(fuel_factor*200 + co2_factor*430), (fuel_factor*230 + co2_factor*210), (fuel_factor*10 + co2_factor*20), (fuel_factor*100 + co2_factor*530)]\n",
    "\n",
    "A_eq = [[1, 1, 1, 1]]\n",
    "b_eq = [551]\n",
    "\n",
    "x0_bounds = (30, 250)\n",
    "x1_bounds = (100, 200)\n",
    "x2_bounds = (70, 100)\n",
    "x3_bounds = (60, 300)\n",
    "\n",
    "integrality = [2, 2, 2, 2]\n",
    "\n",
    "res = linprog(c, A_eq=A_eq, b_eq=b_eq, bounds=[x0_bounds, x1_bounds, x2_bounds, x3_bounds], method='highs', integrality=integrality)\n",
    "\n",
    "print(\"Maximizing value : \", res.fun)\n",
    "print(\"Optimal solution : \", res.x)\n",
    "print(\"\\n\")"
   ]
  }
 ],
 "metadata": {
  "kernelspec": {
   "display_name": ".venv",
   "language": "python",
   "name": "python3"
  },
  "language_info": {
   "codemirror_mode": {
    "name": "ipython",
    "version": 3
   },
   "file_extension": ".py",
   "mimetype": "text/x-python",
   "name": "python",
   "nbconvert_exporter": "python",
   "pygments_lexer": "ipython3",
   "version": "3.9.10"
  },
  "orig_nbformat": 4,
  "vscode": {
   "interpreter": {
    "hash": "237d561a07411b8f6805cb83825596a4e7b9e0c4511715daae49f604cf2dc913"
   }
  }
 },
 "nbformat": 4,
 "nbformat_minor": 2
}
