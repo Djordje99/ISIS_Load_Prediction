{
 "cells": [
  {
   "cell_type": "code",
   "execution_count": 12,
   "metadata": {},
   "outputs": [],
   "source": [
    "import pandas as pd\n",
    "from sklearn.preprocessing import MinMaxScaler\n",
    "import numpy as np\n",
    "\n",
    "data = np.array([1, 2, 3, 4, 5])\n",
    "data2 = np.array([10, 21, 34, 14, 25])\n",
    "scaler = MinMaxScaler()"
   ]
  },
  {
   "cell_type": "code",
   "execution_count": 13,
   "metadata": {},
   "outputs": [
    {
     "name": "stdout",
     "output_type": "stream",
     "text": [
      "[[0.  ]\n",
      " [0.25]\n",
      " [0.5 ]\n",
      " [0.75]\n",
      " [1.  ]]\n",
      "[[0.        ]\n",
      " [0.45833333]\n",
      " [1.        ]\n",
      " [0.16666667]\n",
      " [0.625     ]]\n"
     ]
    }
   ],
   "source": [
    "scaled2 = scaler.fit_transform(data2.reshape(-1, 1))\n",
    "scaled = scaler.fit_transform(data.reshape(-1, 1))\n",
    "\n",
    "print(scaled)\n",
    "print(scaled2)"
   ]
  }
 ],
 "metadata": {
  "kernelspec": {
   "display_name": ".venv",
   "language": "python",
   "name": "python3"
  },
  "language_info": {
   "codemirror_mode": {
    "name": "ipython",
    "version": 3
   },
   "file_extension": ".py",
   "mimetype": "text/x-python",
   "name": "python",
   "nbconvert_exporter": "python",
   "pygments_lexer": "ipython3",
   "version": "3.9.10"
  },
  "orig_nbformat": 4,
  "vscode": {
   "interpreter": {
    "hash": "237d561a07411b8f6805cb83825596a4e7b9e0c4511715daae49f604cf2dc913"
   }
  }
 },
 "nbformat": 4,
 "nbformat_minor": 2
}
