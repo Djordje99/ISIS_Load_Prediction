{
 "cells": [
  {
   "cell_type": "code",
   "execution_count": 31,
   "metadata": {},
   "outputs": [],
   "source": [
    "from sklearn.feature_selection import RFE\n",
    "from sklearn.linear_model import LinearRegression\n",
    "\n",
    "from services.training.ann_regression import AnnRegression\n",
    "from database.controller import DatabaseController\n",
    "from sklearn.model_selection import train_test_split\n",
    "\n",
    "TRAINING_SHARE = 0.99\n",
    "\n",
    "ann_regression = AnnRegression()\n",
    "database_controller = DatabaseController()\n",
    "data_frame = database_controller.load_data()"
   ]
  },
  {
   "cell_type": "code",
   "execution_count": 34,
   "metadata": {},
   "outputs": [
    {
     "name": "stdout",
     "output_type": "stream",
     "text": [
      "   season_summer  season_spring\n",
      "0              0              0\n",
      "1              0              0\n",
      "2              0              0\n",
      "3              0              0\n",
      "4              0              0\n"
     ]
    }
   ],
   "source": [
    "model = LinearRegression()\n",
    "\n",
    "rfe = RFE(model, n_features_to_select=10)\n",
    "\n",
    "y = data_frame['load']\n",
    "X = data_frame.drop('load', axis=1)\n",
    "\n",
    "X_train, X_test, y_train, y_test = train_test_split(X, y, train_size=0.9, random_state=42)\n",
    "\n",
    "X_selected = rfe.fit_transform(X_train, y_train)\n",
    "\n",
    "feature_mask = rfe.support_\n",
    "\n",
    "data_frame_selection =data_frame.drop('load', axis=1).loc[:, feature_mask]\n",
    "\n",
    "print(data_frame_selection.head())"
   ]
  }
 ],
 "metadata": {
  "kernelspec": {
   "display_name": ".venv",
   "language": "python",
   "name": "python3"
  },
  "language_info": {
   "codemirror_mode": {
    "name": "ipython",
    "version": 3
   },
   "file_extension": ".py",
   "mimetype": "text/x-python",
   "name": "python",
   "nbconvert_exporter": "python",
   "pygments_lexer": "ipython3",
   "version": "3.9.10"
  },
  "orig_nbformat": 4,
  "vscode": {
   "interpreter": {
    "hash": "237d561a07411b8f6805cb83825596a4e7b9e0c4511715daae49f604cf2dc913"
   }
  }
 },
 "nbformat": 4,
 "nbformat_minor": 2
}
