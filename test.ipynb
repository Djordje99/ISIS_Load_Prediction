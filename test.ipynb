{
 "cells": [
  {
   "cell_type": "code",
   "execution_count": 4,
   "metadata": {},
   "outputs": [
    {
     "name": "stdout",
     "output_type": "stream",
     "text": [
      "Maximizing value :  129464.0\n",
      "Optimal solution :  [221. 200. 100.   0.]\n",
      "\n",
      "\n"
     ]
    }
   ],
   "source": [
    "from scipy.optimize import linprog\n",
    "\n",
    "fuel_factor = 0.2\n",
    "co2_factor = 0.8\n",
    "\n",
    "c = [(fuel_factor*200 + co2_factor*430), (fuel_factor*230 + co2_factor*210), (fuel_factor*10 + co2_factor*20), (fuel_factor*100 + co2_factor*530)]\n",
    "\n",
    "A_eq = [[1, 1, 1, 1]]\n",
    "b_eq = [521]\n",
    "\n",
    "x0_bounds = (30, 250)\n",
    "x1_bounds = (100, 200)\n",
    "x2_bounds = (70, 100)\n",
    "x3_bounds = (60, 300)\n",
    "\n",
    "integrality = [2, 2, 2, 2]\n",
    "\n",
    "res = linprog(c, A_eq=A_eq, b_eq=b_eq, bounds=[x0_bounds, x1_bounds, x2_bounds, x3_bounds], method='highs', integrality=integrality)\n",
    "\n",
    "print(\"Maximizing value : \", res.fun)\n",
    "print(\"Optimal solution : \", res.x)\n",
    "print(\"\\n\")"
   ]
  },
  {
   "cell_type": "code",
   "execution_count": 11,
   "metadata": {},
   "outputs": [
    {
     "name": "stdout",
     "output_type": "stream",
     "text": [
      "Objective value:  nan\n",
      "Solution x:  [1.95740528e+157 1.48088346e+157]\n"
     ]
    },
    {
     "name": "stderr",
     "output_type": "stream",
     "text": [
      "C:\\Users\\djordje.bozovic\\AppData\\Local\\Temp\\ipykernel_4924\\367783524.py:4: RuntimeWarning: overflow encountered in double_scalars\n",
      "  return x[0]**2 + 2*x[1]**2 - 3*x[0]*x[1] - 2*x[0] - x[1]\n",
      "C:\\Users\\djordje.bozovic\\AppData\\Local\\Temp\\ipykernel_4924\\367783524.py:4: RuntimeWarning: invalid value encountered in double_scalars\n",
      "  return x[0]**2 + 2*x[1]**2 - 3*x[0]*x[1] - 2*x[0] - x[1]\n"
     ]
    }
   ],
   "source": [
    "from scipy.optimize import minimize\n",
    "\n",
    "def obj_func(x):\n",
    "    return x[0]**2 + 2*x[1]**2 - 3*x[0]*x[1] - 2*x[0] - x[1]\n",
    "\n",
    "x0 = [0,0]\n",
    "bnds = ((0, None), (0, None))\n",
    "constraints = ({'type': 'ineq', 'fun': lambda x: x[0]+x[1] -6},{'type': 'ineq', 'fun': lambda x: x[0]-x[1] -2})\n",
    "\n",
    "res = minimize(obj_func, x0, bounds = bnds, constraints=constraints, method='SLSQP')\n",
    "\n",
    "# Print results\n",
    "print(\"Objective value: \",res.fun)\n",
    "print(\"Solution x: \",res.x)"
   ]
  }
 ],
 "metadata": {
  "kernelspec": {
   "display_name": ".venv",
   "language": "python",
   "name": "python3"
  },
  "language_info": {
   "codemirror_mode": {
    "name": "ipython",
    "version": 3
   },
   "file_extension": ".py",
   "mimetype": "text/x-python",
   "name": "python",
   "nbconvert_exporter": "python",
   "pygments_lexer": "ipython3",
   "version": "3.9.10"
  },
  "orig_nbformat": 4,
  "vscode": {
   "interpreter": {
    "hash": "237d561a07411b8f6805cb83825596a4e7b9e0c4511715daae49f604cf2dc913"
   }
  }
 },
 "nbformat": 4,
 "nbformat_minor": 2
}
