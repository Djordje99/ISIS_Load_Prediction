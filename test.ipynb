{
 "cells": [
  {
   "cell_type": "code",
   "execution_count": 76,
   "metadata": {},
   "outputs": [],
   "source": [
    "import pandas as pd\n",
    "import os\n",
    "import sqlite3\n",
    "import numpy as np\n",
    "DATABASE_NAME = 'database/load_database.db'\n",
    "\n",
    "from services.preprocessing.load.load_calibrator import LoadCalibrator\n"
   ]
  },
  {
   "cell_type": "code",
   "execution_count": 96,
   "metadata": {},
   "outputs": [],
   "source": [
    "connection = sqlite3.connect(DATABASE_NAME)\n",
    "data_frame = pd.read_sql_query('SELECT * FROM Load', connection)\n",
    "connection.close()\n",
    "\n",
    "data_frame['date'] = pd.to_datetime(data_frame['date'])"
   ]
  },
  {
   "cell_type": "code",
   "execution_count": 97,
   "metadata": {},
   "outputs": [
    {
     "name": "stdout",
     "output_type": "stream",
     "text": [
      "     index                date  previous_weekday_mean_load  temp   meantemp  \\\n",
      "0        0 2018-01-01 00:00:00                         NaN   9.2  13.041667   \n",
      "1        1 2018-01-01 01:00:00                         NaN   9.2  13.041667   \n",
      "2        2 2018-01-01 02:00:00                         NaN   9.1  13.041667   \n",
      "3        3 2018-01-01 03:00:00                         NaN   8.3  13.041667   \n",
      "4        4 2018-01-01 04:00:00                         NaN   8.1  13.041667   \n",
      "..     ...                 ...                         ...   ...        ...   \n",
      "495    495 2018-01-21 15:00:00                      6187.4  50.9  46.229167   \n",
      "496    496 2018-01-21 16:00:00                      6249.0  49.9  46.229167   \n",
      "497    497 2018-01-21 17:00:00                      6427.0  49.7  46.229167   \n",
      "498    498 2018-01-21 18:00:00                      6610.3  49.3  46.229167   \n",
      "499    499 2018-01-21 19:00:00                      6613.4  49.4  46.229167   \n",
      "\n",
      "     feelslike  maxtemp  mintemp   dew  humidity   windgust  windspeed  \\\n",
      "0         -5.4     18.6      7.2  -3.5     55.55  19.700000       11.3   \n",
      "1         -5.6     18.6      7.2  -3.3     55.97  20.800000       11.6   \n",
      "2         -6.0     18.6      7.2  -3.5     55.91  20.200000       12.0   \n",
      "3         -6.2     18.6      7.2  -3.5     58.00  19.700000       10.7   \n",
      "4         -5.6     18.6      7.2  -4.3     56.10  20.250000        9.7   \n",
      "..         ...      ...      ...   ...       ...        ...        ...   \n",
      "495       50.9     50.9     42.2  29.2     42.91  19.414286        4.1   \n",
      "496       49.9     50.9     42.2  29.5     45.31  19.276190        1.7   \n",
      "497       49.7     50.9     42.2  30.2     46.89  19.138095        1.8   \n",
      "498       49.3     50.9     42.2  31.0     49.17  19.000000        2.0   \n",
      "499       49.4     50.9     42.2  32.8     52.60  18.861905        2.5   \n",
      "\n",
      "     winddir  sealevelpressure  cloudcover        conditions    load  \n",
      "0      312.0            1026.5         4.4             Clear  6198.0  \n",
      "1      306.0            1026.7         0.0             Clear  6019.7  \n",
      "2      302.0            1026.9         0.0             Clear  5818.4  \n",
      "3      308.0            1027.3         0.0             Clear  5687.6  \n",
      "4      306.0            1027.3         0.0             Clear  5557.5  \n",
      "..       ...               ...         ...               ...     ...  \n",
      "495    287.0            1020.2        34.2  Partially cloudy  5462.7  \n",
      "496    331.0            1020.2        65.0  Partially cloudy  5521.8  \n",
      "497    331.0            1020.7        95.7          Overcast  5690.6  \n",
      "498    357.0            1021.3        97.5          Overcast  5890.3  \n",
      "499    353.0            1021.2        97.5          Overcast  5903.1  \n",
      "\n",
      "[500 rows x 17 columns]\n"
     ]
    }
   ],
   "source": [
    "data_frame.insert(2, 'previous_weekday_mean_load', np.nan)\n",
    "\n",
    "data_frame['previous_weekday_mean_load'] = data_frame['load'].shift(periods=168)\n",
    "\n",
    "print(data_frame.head(500))"
   ]
  },
  {
   "cell_type": "code",
   "execution_count": null,
   "metadata": {},
   "outputs": [],
   "source": []
  }
 ],
 "metadata": {
  "kernelspec": {
   "display_name": ".venv",
   "language": "python",
   "name": "python3"
  },
  "language_info": {
   "codemirror_mode": {
    "name": "ipython",
    "version": 3
   },
   "file_extension": ".py",
   "mimetype": "text/x-python",
   "name": "python",
   "nbconvert_exporter": "python",
   "pygments_lexer": "ipython3",
   "version": "3.10.9"
  },
  "orig_nbformat": 4,
  "vscode": {
   "interpreter": {
    "hash": "599bbd70932d25864f809fca1efe0a1b5a8c5e56a0c707a9d74a76c4bdd07c5d"
   }
  }
 },
 "nbformat": 4,
 "nbformat_minor": 2
}
