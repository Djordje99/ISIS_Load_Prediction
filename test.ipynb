{
 "cells": [
  {
   "cell_type": "code",
   "execution_count": 4,
   "metadata": {},
   "outputs": [
    {
     "name": "stdout",
     "output_type": "stream",
     "text": [
      "Maximizing value :  129464.0\n",
      "Optimal solution :  [221. 200. 100.   0.]\n",
      "\n",
      "\n"
     ]
    }
   ],
   "source": [
    "from scipy.optimize import linprog\n",
    "\n",
    "fuel_factor = 0.2\n",
    "co2_factor = 0.8\n",
    "\n",
    "c = [(fuel_factor*200 + co2_factor*430), (fuel_factor*230 + co2_factor*210), (fuel_factor*10 + co2_factor*20), (fuel_factor*100 + co2_factor*530)]\n",
    "\n",
    "A_eq = [[1, 1, 1, 1]]\n",
    "b_eq = [521]\n",
    "\n",
    "x0_bounds = (30, 250)\n",
    "x1_bounds = (100, 200)\n",
    "x2_bounds = (70, 100)\n",
    "x3_bounds = (60, 300)\n",
    "\n",
    "integrality = [2, 2, 2, 2]\n",
    "\n",
    "res = linprog(c, A_eq=A_eq, b_eq=b_eq, bounds=[x0_bounds, x1_bounds, x2_bounds, x3_bounds], method='highs', integrality=integrality)\n",
    "\n",
    "print(\"Maximizing value : \", res.fun)\n",
    "print(\"Optimal solution : \", res.x)\n",
    "print(\"\\n\")"
   ]
  },
  {
   "cell_type": "code",
   "execution_count": 1,
   "metadata": {},
   "outputs": [
    {
     "name": "stderr",
     "output_type": "stream",
     "text": [
      "d:\\Fax\\ISIS_Load_Prediction\\.venv\\lib\\site-packages\\pulp\\pulp.py:1352: UserWarning: Spaces are not permitted in the name. Converted to '_'\n",
      "  warnings.warn(\"Spaces are not permitted in the name. Converted to '_'\")\n"
     ]
    },
    {
     "name": "stdout",
     "output_type": "stream",
     "text": [
      "Status: Optimal\n",
      "x1 = 250.0\n",
      "x2 = 200.0\n",
      "x3 = 100.0\n",
      "x4 = 1.0\n",
      "Status: Optimal\n",
      "x1 = 191.0\n",
      "x2 = 200.0\n",
      "x3 = 100.0\n",
      "x4 = 60.0\n",
      "objective_function =  144584.0\n"
     ]
    }
   ],
   "source": [
    "from pulp import *\n",
    "\n",
    "cost_weight = 0.2\n",
    "co2_weight = 0.8\n",
    "is_running = True\n",
    "\n",
    "# Create the 'prob' variable to contain the problem data\n",
    "prob = LpProblem(\"Simple LP Problem\", LpMinimize)\n",
    "\n",
    "# Create problem variables\n",
    "x1 = LpVariable(\"x1\", 0, 250)\n",
    "x2 = LpVariable(\"x2\", 0, 200)\n",
    "x3 = LpVariable(\"x3\", 0, 100)\n",
    "x4 = LpVariable(\"x4\", 0, 300)\n",
    "\n",
    "x = {'x1':(30, 250), 'x2':(100, 200), 'x3':(70, 100), 'x4':(60, 300)}\n",
    "\n",
    "# The objective function is added to 'prob' first\n",
    "prob += (cost_weight*200 + co2_weight*430)*x1 + (cost_weight*230 + co2_weight*210)*x2 + (cost_weight*10 + co2_weight*20)*x3 + (cost_weight*100 + co2_weight*530)*x4\n",
    "#prob += 3*fun1(x) + 2*fun2(y), \"objective_function\"\n",
    "\n",
    "# The constraints are added to 'prob' one at a time\n",
    "prob += x1 + x2 + x3 + x4 == 551\n",
    "\n",
    "# The problem data is written to an .lp file\n",
    "prob.writeLP(\"SimpleLP.lp\")\n",
    "\n",
    "while(is_running):\n",
    "    is_running = False\n",
    "    # The problem is solved using PuLP's choice of Solver\n",
    "    prob.solve()\n",
    "\n",
    "    # The status of the solution is printed to the screen\n",
    "    print(\"Status:\", LpStatus[prob.status])\n",
    "\n",
    "    # Each of the variables is printed with it's resolved optimum value\n",
    "    for v in prob.variables():\n",
    "        print(v.name, \"=\", v.varValue)\n",
    "        if v.varValue != 0 and v.varValue < x[v.name][0]:\n",
    "            v.bounds(x[v.name][0], x[v.name][1])\n",
    "            is_running = True\n",
    "\n",
    "# The optimised objective function value is printed to the screen\n",
    "print(\"objective_function = \", value(prob.objective))\n"
   ]
  }
 ],
 "metadata": {
  "kernelspec": {
   "display_name": ".venv",
   "language": "python",
   "name": "python3"
  },
  "language_info": {
   "codemirror_mode": {
    "name": "ipython",
    "version": 3
   },
   "file_extension": ".py",
   "mimetype": "text/x-python",
   "name": "python",
   "nbconvert_exporter": "python",
   "pygments_lexer": "ipython3",
   "version": "3.9.10"
  },
  "orig_nbformat": 4,
  "vscode": {
   "interpreter": {
    "hash": "237d561a07411b8f6805cb83825596a4e7b9e0c4511715daae49f604cf2dc913"
   }
  }
 },
 "nbformat": 4,
 "nbformat_minor": 2
}
